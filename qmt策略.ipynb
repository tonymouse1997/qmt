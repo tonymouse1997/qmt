{
 "cells": [
  {
   "cell_type": "code",
   "execution_count": 2,
   "metadata": {},
   "outputs": [
    {
     "name": "stdout",
     "output_type": "stream",
     "text": [
      "xtquant文档地址：http://dict.thinktrader.net/nativeApi/start_now.html\n",
      "***** xtdata连接成功 *****\n",
      "服务信息: {'tag': 'sp3', 'version': '1.0'}\n",
      "服务地址: 127.0.0.1:58610\n",
      "数据路径: C:\\国金证券QMT交易端\\bin.x64/../userdata_mini/datadir\n",
      "设置xtdata.enable_hello = False可隐藏此消息\n",
      "\n",
      "{'000001.SZ':                    time   open   high   low  close   volume        amount  \\\n",
      "20241231  1735574400000  11.93  11.99  11.7   11.7  1475367  1.747242e+09   \n",
      "\n",
      "          settelementPrice  openInterest  preClose  suspendFlag  \n",
      "20241231               0.0            15     11.95            0  }\n",
      "====================\n"
     ]
    }
   ],
   "source": [
    "# 用前须知\n",
    "\n",
    "## xtdata提供和MiniQmt的交互接口，本质是和MiniQmt建立连接，由MiniQmt处理行情数据请求，再把结果回传返回到python层。使用的行情服务器以及能获取到的行情数据和MiniQmt是一致的，要检查数据或者切换连接时直接操作MiniQmt即可。\n",
    "\n",
    "## 对于数据获取接口，使用时需要先确保MiniQmt已有所需要的数据，如果不足可以通过补充数据接口补充，再调用数据获取接口获取。\n",
    "\n",
    "## 对于订阅接口，直接设置数据回调，数据到来时会由回调返回。订阅接收到的数据一般会保存下来，同种数据不需要再单独补充。\n",
    "\n",
    "# 代码讲解\n",
    "\n",
    "# 从本地python导入xtquant库，如果出现报错则说明安装失败\n",
    "from xtquant import xtdata\n",
    "import time\n",
    "\n",
    "# 设定一个标的列表\n",
    "code_list = [\"000001.SZ\"]\n",
    "# 设定获取数据的周期\n",
    "period = \"1d\"\n",
    "\n",
    "# 下载标的行情数据\n",
    "if 1:\n",
    "    ## 为了方便用户进行数据管理，xtquant的大部分历史数据都是以压缩形式存储在本地的\n",
    "    ## 比如行情数据，需要通过download_history_data下载，财务数据需要通过\n",
    "    ## 所以在取历史数据之前，我们需要调用数据下载接口，将数据下载到本地\n",
    "    for i in code_list:\n",
    "        xtdata.download_history_data(i,period=period, start_time='20241230', end_time='20250101') # 增量下载行情数据（开高低收,等等）到本地\n",
    "    \n",
    "    # xtdata.download_financial_data(code_list) # 下载财务数据到本地\n",
    "    # xtdata.download_sector_data() # 下载板块数据到本地\n",
    "    # # 更多数据的下载方式可以通过数据字典查询\n",
    "\n",
    "# 读取本地历史行情数据\n",
    "history_data = xtdata.get_market_data_ex([],code_list,period=period,count=1)\n",
    "print(history_data)\n",
    "print(\"=\" * 20)"
   ]
  },
  {
   "cell_type": "code",
   "execution_count": 2,
   "metadata": {},
   "outputs": [
    {
     "name": "stdout",
     "output_type": "stream",
     "text": [
      "xtquant文档地址：http://dict.thinktrader.net/nativeApi/start_now.html\n"
     ]
    },
    {
     "name": "stdout",
     "output_type": "stream",
     "text": [
      "\u001b[1;31mSignature:\u001b[0m\n",
      "\u001b[0mxtdata\u001b[0m\u001b[1;33m.\u001b[0m\u001b[0mdownload_history_data\u001b[0m\u001b[1;33m(\u001b[0m\u001b[1;33m\n",
      "\u001b[0m    \u001b[0mstock_code\u001b[0m\u001b[1;33m,\u001b[0m\u001b[1;33m\n",
      "\u001b[0m    \u001b[0mperiod\u001b[0m\u001b[1;33m,\u001b[0m\u001b[1;33m\n",
      "\u001b[0m    \u001b[0mstart_time\u001b[0m\u001b[1;33m=\u001b[0m\u001b[1;34m''\u001b[0m\u001b[1;33m,\u001b[0m\u001b[1;33m\n",
      "\u001b[0m    \u001b[0mend_time\u001b[0m\u001b[1;33m=\u001b[0m\u001b[1;34m''\u001b[0m\u001b[1;33m,\u001b[0m\u001b[1;33m\n",
      "\u001b[0m    \u001b[0mincrementally\u001b[0m\u001b[1;33m=\u001b[0m\u001b[1;32mNone\u001b[0m\u001b[1;33m,\u001b[0m\u001b[1;33m\n",
      "\u001b[0m\u001b[1;33m)\u001b[0m\u001b[1;33m\u001b[0m\u001b[1;33m\u001b[0m\u001b[0m\n",
      "\u001b[1;31mDocstring:\u001b[0m\n",
      ":param stock_code: str 品种代码，例如：'000001.SZ'\n",
      ":param period: str 数据周期\n",
      ":param start_time: str 开始时间\n",
      "    格式为 YYYYMMDD 或 YYYYMMDDhhmmss 或 ''\n",
      "    例如：'20230101' '20231231235959'\n",
      "    空字符串代表全部，自动扩展到完整范围\n",
      ":param end_time: str 结束时间 格式同开始时间\n",
      ":param incrementally: 是否增量下载\n",
      "    bool: 是否增量下载\n",
      "    None: 使用start_time控制，start_time为空则增量下载\n",
      "\u001b[1;31mFile:\u001b[0m      c:\\users\\tonym\\miniforge3\\envs\\trading\\lib\\site-packages\\xtquant\\xtdata.py\n",
      "\u001b[1;31mType:\u001b[0m      function"
     ]
    }
   ],
   "source": [
    "from xtquant import xtdata\n",
    "xtdata.download_history_data?"
   ]
  }
 ],
 "metadata": {
  "kernelspec": {
   "display_name": "trading",
   "language": "python",
   "name": "python3"
  },
  "language_info": {
   "codemirror_mode": {
    "name": "ipython",
    "version": 3
   },
   "file_extension": ".py",
   "mimetype": "text/x-python",
   "name": "python",
   "nbconvert_exporter": "python",
   "pygments_lexer": "ipython3",
   "version": "3.12.8"
  }
 },
 "nbformat": 4,
 "nbformat_minor": 2
}
